{
 "cells": [
  {
   "attachments": {},
   "cell_type": "markdown",
   "metadata": {},
   "source": [
    "# Project 3: Root-finding\n",
    "This project deals with root-finding methods"
   ]
  },
  {
   "attachments": {},
   "cell_type": "markdown",
   "metadata": {},
   "source": [
    "## Objective:\n",
    "1. Using <code>sympy</code>, find how many roots exist and their values in the function $f(x)=1+x^{2}$ for $x\\in \\mathbb{R}$.\n",
    "    1. Find an _exact_ expression for the two initial starting points for a Newton-Raphson algorithm such that successive iterations oscillate with a period of 2. \n",
    "\n",
    "2. Using a bisection algorithm on the function $f(x)=x(x+\\delta)^{-2}$ with $\\delta=10^{-4}$.\n",
    "    1. What is the performance of the algorithm on the initial points $(-1.0, 1.6)$.\n",
    "\n",
    "3. Modify the bisection method in #2 to a false position algorithm and perform a root-finding analysis on the function $f(x)=\\sin(x)$ and the initial bracketing points at $(-0.1, 0.16)$.\n",
    "    1. Compare with the performance of the bisection algorithm with the same function.\n",
    "\n",
    "4. Use the false position algorithm on the function $g(x)=\\delta+x^{n}$ with $\\delta=-0.001$ and $n=20$ and the initial bracketing points at $(0, 1)$\n",
    "    1. Plot the function."
   ]
  },
  {
   "attachments": {},
   "cell_type": "markdown",
   "metadata": {},
   "source": [
    "## Solutions:"
   ]
  },
  {
   "attachments": {},
   "cell_type": "markdown",
   "metadata": {},
   "source": [
    "1. Given the following function\n",
    "\n",
    "$$f(x)=1+x^{2}$$"
   ]
  },
  {
   "attachments": {},
   "cell_type": "markdown",
   "metadata": {},
   "source": [
    "Roots occur when $f(x)=0$, so we can set up our program with the relevant packages"
   ]
  },
  {
   "cell_type": "code",
   "execution_count": 292,
   "metadata": {},
   "outputs": [],
   "source": [
    "import numpy as np\n",
    "import math as m\n",
    "import sympy as sym\n",
    "import matplotlib as mpl\n",
    "import matplotlib.pyplot as plt\n",
    "\n",
    "from sympy.plotting import plot\n",
    "\n",
    "plt.style.use('seaborn-v0_8-notebook')\n"
   ]
  },
  {
   "attachments": {},
   "cell_type": "markdown",
   "metadata": {},
   "source": [
    "We assume that the nature of $x$ is unknown (by observation it is complex but let's pretend as if we are unaware), so we define a symbol"
   ]
  },
  {
   "cell_type": "code",
   "execution_count": 293,
   "metadata": {},
   "outputs": [],
   "source": [
    "x = sym.Symbol('x')"
   ]
  },
  {
   "attachments": {},
   "cell_type": "markdown",
   "metadata": {},
   "source": [
    "The function is evaluated at the x-intercept where $f(x)=0$, so we define an equation"
   ]
  },
  {
   "cell_type": "code",
   "execution_count": 294,
   "metadata": {},
   "outputs": [
    {
     "data": {
      "text/latex": [
       "$\\displaystyle 0 = x^{2} + 1$"
      ],
      "text/plain": [
       "Eq(0, x**2 + 1)"
      ]
     },
     "execution_count": 294,
     "metadata": {},
     "output_type": "execute_result"
    }
   ],
   "source": [
    "equation = sym.Eq(0, 1+x**2)\n",
    "equation"
   ]
  },
  {
   "attachments": {},
   "cell_type": "markdown",
   "metadata": {},
   "source": [
    "and the solutions of this equation are"
   ]
  },
  {
   "cell_type": "code",
   "execution_count": 295,
   "metadata": {},
   "outputs": [
    {
     "data": {
      "text/plain": [
       "[-I, I]"
      ]
     },
     "execution_count": 295,
     "metadata": {},
     "output_type": "execute_result"
    }
   ],
   "source": [
    "solutions = sym.solve(equation, x)\n",
    "solutions"
   ]
  },
  {
   "attachments": {},
   "cell_type": "markdown",
   "metadata": {},
   "source": [
    "These are not real solutions, and so the NRM would not converge to a desired tolerance. Instead, we would expect it to oscillate about the minimum forever (assuming there is no max iteration). In order to locate the point where successive iterations oscillate with a period of 2, we locate a point along the x-axis $x_{n}$ that satisfies the condition $x_{n}=-x_{n+1}$. We start bylooking at the point $x_{0}$ that creates a line tanget to that point on the curve"
   ]
  },
  {
   "cell_type": "code",
   "execution_count": 296,
   "metadata": {},
   "outputs": [],
   "source": [
    "x0 = sym.Symbol('x_{0}')\n",
    "f = 1+x**2\n",
    "g = sym.diff(f,x)\n"
   ]
  },
  {
   "cell_type": "code",
   "execution_count": 297,
   "metadata": {},
   "outputs": [
    {
     "data": {
      "text/latex": [
       "$\\displaystyle x_{0}^{2} + 1$"
      ],
      "text/plain": [
       "x_{0}**2 + 1"
      ]
     },
     "execution_count": 297,
     "metadata": {},
     "output_type": "execute_result"
    }
   ],
   "source": [
    "f0 = f.subs(x,x0)\n",
    "f0"
   ]
  },
  {
   "cell_type": "code",
   "execution_count": 298,
   "metadata": {},
   "outputs": [
    {
     "data": {
      "text/latex": [
       "$\\displaystyle 2 x_{0}$"
      ],
      "text/plain": [
       "2*x_{0}"
      ]
     },
     "execution_count": 298,
     "metadata": {},
     "output_type": "execute_result"
    }
   ],
   "source": [
    "g0 = g.subs(x,x0)\n",
    "g0"
   ]
  },
  {
   "attachments": {},
   "cell_type": "markdown",
   "metadata": {},
   "source": [
    "The tangent line is given by the point-slope formula\n",
    "\n",
    "$$f(x)-f(x_{0})=f^{\\prime}(x_{0})(x-x_{0})$$"
   ]
  },
  {
   "cell_type": "code",
   "execution_count": 299,
   "metadata": {},
   "outputs": [
    {
     "data": {
      "text/latex": [
       "$\\displaystyle - x_{0}^{2} + f{\\left(x \\right)} - 1 = 2 x_{0} \\left(x - x_{0}\\right)$"
      ],
      "text/plain": [
       "Eq(-x_{0}**2 + f(x) - 1, 2*x_{0}*(x - x_{0}))"
      ]
     },
     "execution_count": 299,
     "metadata": {},
     "output_type": "execute_result"
    }
   ],
   "source": [
    "fx = sym.Function('f')(x)\n",
    "\n",
    "psf = sym.Eq(fx-f0, g0*(x-x0))\n",
    "psf"
   ]
  },
  {
   "attachments": {},
   "cell_type": "markdown",
   "metadata": {},
   "source": [
    "Now we do a couple steps at once:\n",
    "1. We look for when the tangent line crosses the x-axis $f(x)$\n",
    "2. At the next step $n$, we assert that $x_{n+1}=-x_{n}$ so $x_{1}=-x_{0}$\n",
    "3. We solve for the value of $x_{0}$ at $f(x)=0$"
   ]
  },
  {
   "cell_type": "code",
   "execution_count": 300,
   "metadata": {},
   "outputs": [
    {
     "data": {
      "text/latex": [
       "$\\displaystyle 2 x x_{0} - x_{0}^{2} + 1$"
      ],
      "text/plain": [
       "2*x*x_{0} - x_{0}**2 + 1"
      ]
     },
     "execution_count": 300,
     "metadata": {},
     "output_type": "execute_result"
    }
   ],
   "source": [
    "tangent = sym.solve(psf, fx)[0]\n",
    "tangent"
   ]
  },
  {
   "cell_type": "code",
   "execution_count": 301,
   "metadata": {},
   "outputs": [
    {
     "data": {
      "text/plain": [
       "[-sqrt(3)/3, sqrt(3)/3]"
      ]
     },
     "execution_count": 301,
     "metadata": {},
     "output_type": "execute_result"
    }
   ],
   "source": [
    "solutions = sym.solve(sym.Eq(sym.solve(psf, fx)[0].subs(x, -x0), 0), x0)\n",
    "solutions"
   ]
  },
  {
   "cell_type": "code",
   "execution_count": 302,
   "metadata": {},
   "outputs": [
    {
     "data": {
      "image/png": "[encoded data removed]",
      "text/plain": [
       "<Figure size 800x550 with 1 Axes>"
      ]
     },
     "metadata": {},
     "output_type": "display_data"
    }
   ],
   "source": [
    "p1 = plot(f, show=False, xlim=(-2, 2), ylim=(0,3))\n",
    "p2 = plot(tangent.subs(x0, solutions[1]), show=False)\n",
    "p3 = plot(tangent.subs(x0, solutions[0]), show=False)\n",
    "\n",
    "p1.append(p2[0])\n",
    "p1.append(p3[0])\n",
    "\n",
    "p1.show()"
   ]
  },
  {
   "attachments": {},
   "cell_type": "markdown",
   "metadata": {},
   "source": [
    "2. We will develop a bisection method to evaluate the roots of the function\n",
    "\n",
    "$$f(x)=x(x+\\delta)^{-2}\\text{~ with ~}\\delta=10^{-4}.$$"
   ]
  },
  {
   "attachments": {},
   "cell_type": "markdown",
   "metadata": {},
   "source": [
    "The bisection method is an algorithm that determines an interval given some end-points, and subdivides the the interval where a root resides. This is defined as the point where the sign of the product of two successive iterations is negative. At this point, the average of the successive iterations is compared to a tolerance, and the algorithm is terminated once that tolerance is reached. This is visualized with the image below from <a href=\"https://en.wikipedia.org/wiki/Bisection_method#/media/File:Bisection_method.svg\">this source</a>"
   ]
  },
  {
   "attachments": {},
   "cell_type": "markdown",
   "metadata": {},
   "source": [
    "<img src=\"bisection.png\"\n",
    "     alt=\"A continuous function is split into intervals containing the root.\"\n",
    "     width=\"350\"\n",
    "     height=\"450\" />"
   ]
  },
  {
   "attachments": {},
   "cell_type": "markdown",
   "metadata": {},
   "source": [
    "The definition of the algorithm is simple"
   ]
  },
  {
   "cell_type": "code",
   "execution_count": 303,
   "metadata": {},
   "outputs": [],
   "source": [
    "def bisection(function, start, end, tolerance =1e-10):\n",
    "    # Start with the function, and its endpoints. We define a built-in tolerance that can be adjusted\n",
    "    \n",
    "    fa, fb = function(start), function(end)\n",
    "    # Start by looking at the signs of the function at the end-points\n",
    "    \n",
    "    evaluations = 0 # The start of the counter\n",
    "    \n",
    "    if fa*fb >= 0:\n",
    "        # If the product of the function at the endpoints is positive, the method fails\n",
    "        print('Bisection fails.')\n",
    "        return None, evaluations\n",
    "\n",
    "    while (end-start)/2 > tolerance:\n",
    "        # While above some tolerance do:\n",
    "        \n",
    "        evaluations += 1 # Step the counter\n",
    "        \n",
    "        midpoint = (start+end)/2 # Find the midpoint of the endpoints\n",
    "        fm = function(midpoint) # Evaluate the function at the midpoint\n",
    "        \n",
    "        if function(start)*fm < 0:\n",
    "            # If the product of the function at the start and midpoint is negative\n",
    "            end = midpoint # Set the new end point\n",
    "            \n",
    "        elif function(end)*fm < 0:\n",
    "            # If the product of the function at the end and midpoint is negative\n",
    "            start = midpoint # Set the new start point\n",
    "\n",
    "        elif fm == 0:\n",
    "            # If the function at the midpoint is zero\n",
    "            return midpoint, evaluations # This is the solution\n",
    "        \n",
    "    return (start+end)/2, evaluations"
   ]
  },
  {
   "attachments": {},
   "cell_type": "markdown",
   "metadata": {},
   "source": [
    "Now we can define out function and use the precision of our computer to determine a root within the bounds $(-1.0, 1.6)$"
   ]
  },
  {
   "cell_type": "code",
   "execution_count": 304,
   "metadata": {},
   "outputs": [
    {
     "name": "stdout",
     "output_type": "stream",
     "text": [
      "The root is found to be 8.967185968126265e-17 at 53 iterations.\n"
     ]
    }
   ],
   "source": [
    "delta = 1e-4\n",
    "function = lambda x: x*(x+delta)**(-2)\n",
    "start, stop, epsilon = -1.0, 1.6, np.finfo(float).eps\n",
    "root, max_iter = bisection(function, start, stop, epsilon)\n",
    "print(f\"The root is found to be {root} at {max_iter} iterations.\")"
   ]
  },
  {
   "attachments": {},
   "cell_type": "markdown",
   "metadata": {},
   "source": [
    "The following relation gives us insight on the expected maximum iterations\n",
    "\n",
    "$$\\left|x_{n}-x\\right|\\leq \\frac{1}{2^{n}}\\left|x_{1}-x_{0}\\right|.$$"
   ]
  },
  {
   "attachments": {},
   "cell_type": "markdown",
   "metadata": {},
   "source": [
    "The LHS is the tolerance we desire for the algorithm, which is given by the machine precision, whereas the RHS has the number of iterations $n$ and the left and right bounds $x_{0}$ and $x_{1}$. Plugging in these quantities and solving for $n$ shows the maximum number of iterations required for this algorithm "
   ]
  },
  {
   "cell_type": "code",
   "execution_count": 305,
   "metadata": {},
   "outputs": [
    {
     "data": {
      "text/latex": [
       "$\\displaystyle n \\leq \\frac{36.9991648341446}{\\log{\\left(2 \\right)}}$"
      ],
      "text/plain": [
       "n <= 36.9991648341446/log(2)"
      ]
     },
     "execution_count": 305,
     "metadata": {},
     "output_type": "execute_result"
    }
   ],
   "source": [
    "n = sym.Symbol('n', integer=True)\n",
    "LHS, RHS = sym.Abs(epsilon), sym.Rational(1, 2)**(n)*sym.Abs(stop-start)\n",
    "sym.reduce_inequalities([LHS<=RHS], n)"
   ]
  },
  {
   "attachments": {},
   "cell_type": "markdown",
   "metadata": {},
   "source": [
    "The above rational number evaluates to $53.4$ where $\\log(2)$ is equivalent to $\\ln(2)$. We therefore have achieved the desired performance of the algorithm."
   ]
  },
  {
   "attachments": {},
   "cell_type": "markdown",
   "metadata": {},
   "source": [
    "3. We modify the method by letting successive guesses be calculated by a modified secant method or\n",
    "\n",
    "$$x_{n} = \\frac{x_{n-2}f(x_{n-1})- x_{n-1}f(x_{n-2})}{f(x_{n-1})- f(x_{n-2})}$$\n",
    "\n",
    "Notice that we start with two guesses already made to calculate $x_{n}$, so we set the counter to $i=2$. This $x$ value is then plugged into the function and the absolute error is checked against the set tolerance. If it reaches the threshold, the loop halts and the approximate root is displayed along with the number of iterations. If it is not, then the counter increases by one, the function at the found value becomes a new start point. All the values are updated and the loop is repeated until a satisfactory level of error is reached."
   ]
  },
  {
   "cell_type": "code",
   "execution_count": 306,
   "metadata": {},
   "outputs": [],
   "source": [
    "def regula_falsi(function, start, end, tolerance = 1e-10, max_iter = 100):\n",
    "    \n",
    "    if function(start) * function(end) >= 0:\n",
    "        raise ValueError(\"Function should have different signs at a and b\")\n",
    "    \n",
    "    c = start\n",
    "    fa = function(start)\n",
    "    fb = function(end)\n",
    "    for i in range(2, max_iter):\n",
    "        c = (start*fb-end*fa)/(fb-fa)\n",
    "        fc = function(c)\n",
    "        if fc == 0 or abs(end-start)<tolerance:\n",
    "            return c, i\n",
    "        \n",
    "        if function(start) * fc < 0:\n",
    "            end = c\n",
    "            fb = fc\n",
    "        else:\n",
    "            start = c\n",
    "            fa = fc\n",
    "    return c, i"
   ]
  },
  {
   "cell_type": "code",
   "execution_count": 307,
   "metadata": {},
   "outputs": [
    {
     "name": "stdout",
     "output_type": "stream",
     "text": [
      "Regula falsi: The root is found to be 0.0 at 5 iterations.\n",
      "Bisection: The root is found to be 1.1510604561007989e-16 at 49 iterations.\n"
     ]
    }
   ],
   "source": [
    "root, max_iter = regula_falsi(m.sin, -0.01, 0.16, epsilon)\n",
    "print(f\"Regula falsi: The root is found to be {root} at {max_iter} iterations.\")\n",
    "root, max_iter = bisection(m.sin, -0.01, 0.16, epsilon)\n",
    "print(f\"Bisection: The root is found to be {root} at {max_iter} iterations.\")"
   ]
  },
  {
   "attachments": {},
   "cell_type": "markdown",
   "metadata": {},
   "source": [
    "Clearly the false position method is the superior of the two (need to do iteration calc)"
   ]
  },
  {
   "attachments": {},
   "cell_type": "markdown",
   "metadata": {},
   "source": [
    "4. We define the function \n",
    "\n",
    "$$f(x)= \\delta + x^{20}$$\n",
    "\n",
    "with $\\delta=-0.001$, and apply our function before plotting"
   ]
  },
  {
   "cell_type": "code",
   "execution_count": 313,
   "metadata": {},
   "outputs": [
    {
     "data": {
      "text/plain": [
       "(1.1510604561007989e-16, 99)"
      ]
     },
     "execution_count": 313,
     "metadata": {},
     "output_type": "execute_result"
    }
   ],
   "source": [
    "delta = -0.001\n",
    "function_last = lambda x: delta+x**20\n",
    "start_last, stop_last= 0, 1\n",
    "roots, max_iter = regula_falsi(function_last, start_last, stop_last, epsilon)\n",
    "root, max_iter"
   ]
  },
  {
   "attachments": {},
   "cell_type": "markdown",
   "metadata": {},
   "source": [
    "^^ This is wrong, need to fix"
   ]
  },
  {
   "cell_type": "code",
   "execution_count": 324,
   "metadata": {},
   "outputs": [
    {
     "data": {
      "text/plain": [
       "(0.0, 1.0)"
      ]
     },
     "execution_count": 324,
     "metadata": {},
     "output_type": "execute_result"
    },
    {
     "data": {
      "image/png": "[encoded data removed]",
      "text/plain": [
       "<Figure size 500x500 with 1 Axes>"
      ]
     },
     "metadata": {},
     "output_type": "display_data"
    }
   ],
   "source": [
    "fig, ax = plt.subplots(ncols=1, nrows=1, figsize=(5,5))\n",
    "x_array = np.linspace(start, stop, 1000)\n",
    "ax.plot(x_array, function_last(x_array))\n",
    "ax.axhline(y=0, color='k', linewidth=0.5)\n",
    "ax.set_ylim([-0.01,0.01])\n",
    "ax.set_xlim([x_array[0],x_array[-1]])\n"
   ]
  },
  {
   "cell_type": "code",
   "execution_count": null,
   "metadata": {},
   "outputs": [],
   "source": []
  }
 ],
 "metadata": {
  "kernelspec": {
   "display_name": "Python 3",
   "language": "python",
   "name": "python3"
  },
  "language_info": {
   "codemirror_mode": {
    "name": "ipython",
    "version": 3
   },
   "file_extension": ".py",
   "mimetype": "text/x-python",
   "name": "python",
   "nbconvert_exporter": "python",
   "pygments_lexer": "ipython3",
   "version": "3.10.8 (tags/v3.10.8:aaaf517, Oct 11 2022, 16:50:30) [MSC v.1933 64 bit (AMD64)]"
  },
  "orig_nbformat": 4,
  "vscode": {
   "interpreter": {
    "hash": "2213fd06dc5c8fb6d0d0cb5a1d89f86454c525c9776760efd815d21b2002c8fc"
   }
  }
 },
 "nbformat": 4,
 "nbformat_minor": 2
}
